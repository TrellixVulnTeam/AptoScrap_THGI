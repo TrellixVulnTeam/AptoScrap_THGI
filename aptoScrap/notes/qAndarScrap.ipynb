{
 "cells": [
  {
   "cell_type": "code",
   "execution_count": 17,
   "metadata": {},
   "outputs": [],
   "source": [
    "import requests \n",
    "from bs4 import BeautifulSoup\n",
    "from selenium import webdriver\n",
    "from selenium.webdriver.common.keys import Keys\n",
    "import pandas as pd \n",
    "import itertools\n",
    "import re \n",
    "import time\n"
   ]
  },
  {
   "cell_type": "code",
   "execution_count": null,
   "metadata": {},
   "outputs": [],
   "source": [
    "#################################################################\n",
    "#Selenium para crowlear o site e fazer scrolldown automatico\n",
    "################################################################\n",
    "\n",
    "#Instancia Browser\n",
    "\n",
    "chrome = webdriver.Chrome(\"chromedriver.exe\")\n",
    "\n",
    "chrome.get('https://www.quintoandar.com.br/alugar/imovel/belo-horizonte-mg-brasil/apartamento/3-quartos/de-500-a-2500-aluguel/1-vagas')\n",
    "time.sleep(0.5)\n",
    "\n",
    "body = chrome.find_element_by_tag_name(\"body\")\n",
    "no_pageDowns = 50\n",
    "\n",
    "#Scroll Down  while no_pagedows > 0.\n",
    "\n",
    "while no_pageDowns:\n",
    "    body.send_keys(Keys.PAGE_DOWN)\n",
    "    time.sleep(0.5)\n",
    "    no_pageDowns -= 1\n",
    "\n",
    "fonte = chrome.page_source #Busca codigo fonte da página\n",
    "soup = BeautifulSoup(fonte, \"html.parser\") #Faz o parser do html\n",
    "\n",
    "chrome.quit() #Fecha janela do Browser\n",
    "\n",
    "################################################################\n",
    "# BeautifulSoup para fazer o webscraping dos dados da página\n",
    "################################################################\n",
    "\n",
    "#Variaveis procuradas na página\n",
    "rua = []\n",
    "bairro = []\n",
    "area = []\n",
    "quartos = []\n",
    "aluguel = []\n",
    "total = []\n",
    "\n",
    "#Container para armazenar os dados do apto (menos preços)\n",
    "aptoContainer = soup.find_all('div', class_='hhh4j4-0 hgxpIA')\n",
    "if aptoContainer != []:\n",
    "    \n",
    "    #Manipulação dos itens da lista aptoContainer para buscar as variaveis de interesse\n",
    "    for apto in aptoContainer:\n",
    "        \n",
    "        #Busca endereços (Rua e Bairro)\n",
    "        rua_x = apto.find_all('p')[0].text #busca o elemento contendo a rua do apto x\n",
    "        rua.append(rua_x)\n",
    "        bairro_x = apto.find_all('p')[1].text #busca elemento contendo o bairro do apto x\n",
    "        bairro.append(bairro_x)\n",
    "        \n",
    "        #Busca Numero de Quartos\n",
    "        quartos_x = apto.find_all('span', class_='hhh4j4-1 ldRYl sc-bdVaJa hfjSkg')[1].text\n",
    "        quartos_x = int(re.search(r'\\d+', quartos).group()) #torna o elemento quartos legível\n",
    "        quartos.append(quartos_x)\n",
    "        \n",
    "        #Busca area\n",
    "        area_x = apto.find_all('span',class_= 'hhh4j4-1 ldRYl sc-bdVaJa hfjSkg')[0].text\n",
    "        area_x = int(re.search(r'\\d+', area_x).group())\n",
    "        \n",
    "        \n",
    "\n",
    "cols = ['Rua', 'Bairro','Quartos','Area (m²)','Aluguel','Total']\n",
    "\n",
    "dfApto = pd.DataFrame({\n",
    "    'Rua' : rua,\n",
    "    'Bairro' : bairro,\n",
    "    'Quartos' : quartos,\n",
    "    'Area' : area,\n",
    "    'Aluguel' : aluguel,\n",
    "    'Total' : total\n",
    "})[cols]"
   ]
  },
  {
   "cell_type": "code",
   "execution_count": 3,
   "metadata": {},
   "outputs": [
    {
     "data": {
      "text/plain": [
       "200"
      ]
     },
     "execution_count": 3,
     "metadata": {},
     "output_type": "execute_result"
    }
   ],
   "source": [
    "#Cria Headers e envia HTTP Request para o site - conexão com o site \n",
    "\n",
    "browser = ({'User-Agent':\n",
    "            'Mozilla/5.0 (Windows NT 6.1) AppleWebKit/537.36 (KHTML, like Gecko) Chrome/41.0.2228.0 Safari/537.36'}) # Mimic a browser\n",
    "\n",
    "site =  'https://www.quintoandar.com.br/alugar/imovel/belo-horizonte-mg-brasil/apartamento/3-quartos/de-500-a-2500-aluguel/1-vagas'\n",
    "\n",
    "response = requests.get(site, headers = browser)\n",
    "\n",
    "response.status_code"
   ]
  },
  {
   "cell_type": "code",
   "execution_count": null,
   "metadata": {},
   "outputs": [],
   "source": []
  }
 ],
 "metadata": {
  "kernelspec": {
   "display_name": "Python 3",
   "language": "python",
   "name": "python3"
  },
  "language_info": {
   "codemirror_mode": {
    "name": "ipython",
    "version": 3
   },
   "file_extension": ".py",
   "mimetype": "text/x-python",
   "name": "python",
   "nbconvert_exporter": "python",
   "pygments_lexer": "ipython3",
   "version": "3.7.3"
  }
 },
 "nbformat": 4,
 "nbformat_minor": 2
}
