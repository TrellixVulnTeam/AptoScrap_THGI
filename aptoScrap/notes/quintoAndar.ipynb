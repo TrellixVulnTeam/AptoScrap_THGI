{
 "cells": [
  {
   "cell_type": "code",
   "execution_count": 19,
   "metadata": {},
   "outputs": [],
   "source": [
    "#Importar dependencias\n",
    "import requests\n",
    "from bs4 import BeautifulSoup\n",
    "import pandas as pd\n",
    "import itertools\n",
    "import re"
   ]
  },
  {
   "cell_type": "code",
   "execution_count": 2,
   "metadata": {},
   "outputs": [],
   "source": [
    "browser = ({'User-Agent':\n",
    "            'Mozilla/5.0 (Windows NT 6.1) AppleWebKit/537.36 (KHTML, like Gecko) Chrome/41.0.2228.0 Safari/537.36'}) # Mimic a browser\n",
    "\n",
    "site =  'https://www.quintoandar.com.br/alugar/imovel/belo-horizonte-mg-brasil/apartamento/3-quartos/de-500-a-2500-aluguel/1-vagas'\n",
    "\n",
    "response = requests.get(site, headers = browser)"
   ]
  },
  {
   "cell_type": "code",
   "execution_count": 3,
   "metadata": {},
   "outputs": [
    {
     "name": "stdout",
     "output_type": "stream",
     "text": [
      "<Response [200]>\n",
      "<!DOCTYPE html><html lang=\"pt\" lang=\"pt\"><head><meta charset=\"utf-8\"><meta name=\"viewport\" content=\"width=device-width,initial-scale=1,maximum-scale=1,user-scalable=no\"><meta name=\"theme-color\" content=\"#2444EA\"><link rel=\"manifest\" href=\"/manifest.json\"><meta name=\"apple-mobile-web-app-capable\" content=\"yes\"><meta name=\"apple-mobile-web-app-title\" content=\"QuintoAndar\"><meta name=\"apple-mobile-web-app-status-bar-style\" content=\"default\"><link rel=\"apple-touch-icon\" href=\"https://quintoandar.com.br/ic_launcher_ios_120x120.png\"><link rel=\"apple-touch-icon\" sizes=\"152x152\" href=\"https://quintoandar.com.br/ic_launcher_ios_152x152.png\"><link rel=\"apple-touch-icon\" sizes=\"167x167\" href=\"https://quintoandar.com.br/ic_launcher_ios_167x167.png\"><link rel=\"apple-touch-icon\" sizes=\"180x180\" href=\"https://quintoandar.com.br/ic_launcher_ios_180x180.png\"><meta name=\"msapplication-TileImage\" content=\"ic_launcher_ios_120x120.png\"><meta name=\"msapplication-TileColor\" content=\"#2F3BA2\"><noscript id=\"jss-insertion-point\"></noscript><style>@keyframes fadeAnimation{0%{opacity:1}50%{opacity:.85}100%{opacity:1}}</style><title data-react-helmet=\"true\">Apartamentos com 3 quartos para alugar em Belo Horizonte - QuintoAndar</title><meta data-react-helmet=\"true\" itemprop=\"name\" content=\"Apartamentos com 3 quartos para alugar em Belo Horizonte\"/><meta data-react-helmet=\"true\" itemprop=\"description\" content=\"Melhores ofertas de apartamentos com 3 quartos para alugar em Belo Horizonte!\n",
      "    No QuintoAndar você agenda visitas online, aluga rápido e com segurança,\n",
      "    sem precisar de fiador ou seguro-fiança.\"/><meta data-react-helmet=\"true\" itemprop=\"image\" content=\"https://quintoandar.com.br/open_graph.jpg\"/><meta data-react-helmet=\"true\" name=\"description\" content=\"Melhores ofertas de apartamentos com 3 quartos para alugar em Belo Horizonte!\n",
      "    No QuintoAndar você agenda visitas online, aluga rápido e com segurança,\n",
      "    sem precisar de fiador ou seguro-fiança.\"/><meta data-react-helmet=\"true\" name=\"twitter:card\" content=\"summary_large_image\"/><meta data-react-helmet=\"true\" name=\"twitter:site\" content=\"@quintoandar\"/><meta data-react-helmet=\"true\" name=\"twitter:title\" content=\"Apartamentos com 3 quartos para alugar em Belo Horizonte - QuintoAndar\"/><meta data-react-helmet=\"true\" name=\"twitter:description\" content=\"Melhores ofertas de apartamentos com 3 quartos para alugar em Belo Horizonte!\n",
      "    No QuintoAndar você agenda visitas online, aluga rápido e com segurança,\n",
      "    sem precisar de fiador ou seguro-fiança.\"/><meta data-react-helmet=\"true\" name=\"twitter:creator\" content=\"@quintoandar\"/><meta data-react-helmet=\"true\" name=\"twitter:image:src\" content=\"https://quintoandar.com.br/open_graph.jpg\"/><meta data-react-helmet=\"true\" property=\"og:title\" content=\"Apartamentos com 3 quartos para alugar em Belo Horizonte - QuintoAndar\"/><meta data-react-helmet=\"true\" property=\"og:type\" content=\"product.group\"/><meta data-react-helmet=\"true\" property=\"og:url\" content=\"https://www.quintoandar.com.br/alugar/imovel/belo-horizonte-mg-brasil/apartamento/3-quartos/de-500-a-2500-aluguel/1-vagas\"/><meta data-react-helmet=\"true\" property=\"og:image\" content=\"https://quintoandar.com.br/open_graph.jpg\"/><meta data-react-helmet=\"true\" property=\"og:description\" content=\"Melhores ofertas de apartamentos com 3 quartos para alugar em Belo Horizonte!\n",
      "    No QuintoAndar você agenda visitas online, aluga rápido e com segurança,\n",
      "    sem precisar de fiador ou seguro-fiança.\"/><meta data-react-helmet=\"true\" property=\"og:site_name\" content=\"QuintoAndar\"/><meta data-react-helmet=\"true\" property=\"fb:app_id\" content=\"&lt;470098246380961&gt;\"/><link data-react-helmet=\"true\" rel=\"canonical\" href=\"https://www.quintoandar.com.br/alugar/imovel/belo-horizonte-mg-brasil/apartamento/3-quartos/de-500-a-2500-aluguel/1-vagas\"/><script data-react-helmet=\"true\" type=\"application/ld+json\">{\"@context\":\"http://schema.org\",\"@type\":\"BreadcrumbList\",\"itemListElement\":[{\"@type\":\"ListItem\",\"position\":1,\"name\":\"QuintoAndar\",\"item\":\"https://www.quintoandar.com.br\"},{\"@type\":\"ListItem\",\"position\":2,\"name\":\"Belo Horizonte, MG\",\"item\":\"https://www.quintoandar.com.br/alugar/imovel/belo-horizonte-mg-brasil\"},{\"@type\":\"ListItem\",\"position\":3,\"name\":\"Apartamentos com 3 quartos\",\"item\":\"https://www.quintoandar.com.br/alugar/imovel/belo-horizonte-mg-brasil/apartamento/3-quartos\"}]}</script><script data-react-helmet=\"true\" type=\"application/ld+json\">{\"@context\":\"http://schema.org\",\"@type\":\"Place\",\"name\":\"Belo Horizonte\",\"geo\":{\"@type\":\"GeoCoordinates\",\"latitude\":-19.938123,\"longitude\":-43.935567},\"address\":{\"@type\":\"PostalAddress\",\"addressLocality\":\"Belo Horizonte\",\"addressRegion\":\"MG\",\"addressCountry\":\"BR\"}}</script><link rel=\"preload\" href=\"/manifest.86e7783b131b368c675a.js\" as=\"script\"/><link rel=\"preload\" href=\"/vendor-entry.242e52b538643d1d21f1.js\" as=\"script\"/><link rel=\"preload\" href=\"/common-general-main.5d5ded9a329b3fb9e4f4.chunk.js\" as=\"script\"/><link rel=\"preload\" href=\"/search.79bc63f7db0dcb86b65\n"
     ]
    }
   ],
   "source": [
    "print(response)\n",
    "print(response.text[:5000])"
   ]
  },
  {
   "cell_type": "code",
   "execution_count": 4,
   "metadata": {},
   "outputs": [],
   "source": [
    "html_parser = BeautifulSoup(response.text, 'html.parser')"
   ]
  },
  {
   "cell_type": "code",
   "execution_count": 5,
   "metadata": {},
   "outputs": [
    {
     "data": {
      "text/plain": [
       "<div class=\"hhh4j4-3 cJuvGy\"><p class=\"sc-bdVaJa gBJGys\">Rua do Ouro</p><p class=\"sc-bdVaJa jiARkd\">Serra, Belo Horizonte</p></div>"
      ]
     },
     "execution_count": 5,
     "metadata": {},
     "output_type": "execute_result"
    }
   ],
   "source": [
    "# Endereco\n",
    "\n",
    "addContainers = html_parser.find_all('div', class_='hhh4j4-3 cJuvGy')[0]\n",
    "\n",
    "addContainers"
   ]
  },
  {
   "cell_type": "code",
   "execution_count": 6,
   "metadata": {},
   "outputs": [
    {
     "data": {
      "text/plain": [
       "('Rua do Ouro', 'Serra, Belo Horizonte')"
      ]
     },
     "execution_count": 6,
     "metadata": {},
     "output_type": "execute_result"
    }
   ],
   "source": [
    "# Manipulando apContainers \n",
    "\n",
    "rua = addContainers.find_all('p')[0].text\n",
    "bairro = addContainers.find_all('p')[1].text\n",
    "\n",
    "rua,bairro"
   ]
  },
  {
   "cell_type": "code",
   "execution_count": 7,
   "metadata": {},
   "outputs": [
    {
     "data": {
      "text/plain": [
       "<div class=\"m82tat-1 tOXvs\"><p class=\"m82tat-3 kVYbKp sc-bdVaJa iJaolf\"><span>Aluguel R$1,500 </span></p><p class=\"sc-bdVaJa gzeFNP\"><strong>Total R$3,171 </strong></p></div>"
      ]
     },
     "execution_count": 7,
     "metadata": {},
     "output_type": "execute_result"
    }
   ],
   "source": [
    "# Valores\n",
    "\n",
    "\n",
    "precoContainer = html_parser.find_all('div', class_='m82tat-1 tOXvs')[0]\n",
    "\n",
    "precoContainer"
   ]
  },
  {
   "cell_type": "code",
   "execution_count": 34,
   "metadata": {},
   "outputs": [
    {
     "data": {
      "text/plain": [
       "('Aluguel R$1,500 ', 'Total R$3,171 ')"
      ]
     },
     "execution_count": 34,
     "metadata": {},
     "output_type": "execute_result"
    }
   ],
   "source": [
    "# Aluguel e Total\n",
    "aluguel, total = precoContainer.find_all('p')[0].text, precoContainer.find_all('p')[1].text\n",
    "\n",
    "aluguel, total"
   ]
  },
  {
   "cell_type": "code",
   "execution_count": 35,
   "metadata": {},
   "outputs": [
    {
     "data": {
      "text/plain": [
       "(1500, 3171)"
      ]
     },
     "execution_count": 35,
     "metadata": {},
     "output_type": "execute_result"
    }
   ],
   "source": [
    "aluguel, total = aluguel.replace(',',''), total.replace(',','')\n",
    "aluguel = int(re.search(r'\\d+', aluguel).group())\n",
    "total = int(re.search(r'\\d+', total).group())\n",
    "\n",
    "aluguel, total"
   ]
  },
  {
   "cell_type": "code",
   "execution_count": 50,
   "metadata": {},
   "outputs": [
    {
     "data": {
      "text/plain": [
       "90"
      ]
     },
     "execution_count": 50,
     "metadata": {},
     "output_type": "execute_result"
    }
   ],
   "source": [
    "# Area do apto\n",
    "\n",
    "areaContainers = html_parser.find_all('span', class_= 'hhh4j4-1 ldRYl sc-bdVaJa hfjSkg')[0].text\n",
    "\n",
    "areaContainers = int(re.search(r'\\d+', areaContainers).group())\n",
    "\n",
    "areaContainers"
   ]
  },
  {
   "cell_type": "code",
   "execution_count": 65,
   "metadata": {},
   "outputs": [
    {
     "name": "stdout",
     "output_type": "stream",
     "text": [
      "Rua : Rua do Ouro\n",
      "Bairro : Serra, Belo Horizonte\n",
      "Area : 90\n",
      "Quartos : 3\n",
      "Aluguel : 1500\n",
      "Total : 3171\n"
     ]
    }
   ],
   "source": [
    "#############################################\n",
    "# HOUSE CONTAINERS \n",
    "#############################################\n",
    "\n",
    "houseContainers = html_parser.find_all('div', class_='hhh4j4-0 hgxpIA')\n",
    "\n",
    "first = houseContainers[0]\n",
    "\n",
    "# Endereço\n",
    "rua = first.find_all('p')[0].text\n",
    "bairro = first.find_all('p')[1].text\n",
    "# Area\n",
    "area = first.find_all('span', class_= 'hhh4j4-1 ldRYl sc-bdVaJa hfjSkg')[0].text\n",
    "area = int(re.search(r'\\d+', area).group())\n",
    "# Numero de Quartos\n",
    "quartos = first.find_all('span', class_='hhh4j4-1 ldRYl sc-bdVaJa hfjSkg')[1].text\n",
    "quartos = int(re.search(r'\\d+', quartos).group())\n",
    "\n",
    "# Aluguel e total\n",
    "precoContainer = html_parser.find_all('div', class_='m82tat-1 tOXvs')[0]\n",
    "aluguel, total = precoContainer.find_all('p')[0].text, precoContainer.find_all('p')[1].text\n",
    "aluguel, total = aluguel.replace(',',''), total.replace(',','')\n",
    "aluguel = int(re.search(r'\\d+', aluguel).group())\n",
    "total = int(re.search(r'\\d+', total).group())\n",
    "\n",
    "\n",
    "saida = {\n",
    "    'Rua' : rua,\n",
    "    'Bairro' : bairro,\n",
    "    'Area' : area,\n",
    "    'Quartos' : quartos,\n",
    "    'Aluguel': aluguel,\n",
    "    'Total' : total\n",
    "}\n",
    "\n",
    "for i in saida:\n",
    "    print('{} : {}'.format(i, saida[i]))"
   ]
  },
  {
   "cell_type": "code",
   "execution_count": 56,
   "metadata": {},
   "outputs": [
    {
     "data": {
      "text/plain": [
       "<div class=\"hhh4j4-0 hgxpIA\"><span class=\"hhh4j4-2 hyCyhO sc-bdVaJa kuvAWT\"><span>Apartamento</span></span><div class=\"hhh4j4-3 cJuvGy\"><p class=\"sc-bdVaJa gBJGys\">Rua do Ouro</p><p class=\"sc-bdVaJa jiARkd\">Serra, Belo Horizonte</p></div><span class=\"hhh4j4-1 ldRYl sc-bdVaJa hfjSkg\"><span><svg aria-hidden=\"true\" class=\"jss130\" focusable=\"false\" style=\"font-size:16px\" viewbox=\"0 0 24 24\"><g><path d=\"M21 6H3c-1.1 0-2 .9-2 2v8c0 1.1.9 2 2 2h18c1.1 0 2-.9 2-2V8c0-1.1-.9-2-2-2zm0 10H3V8h2v4h2V8h2v4h2V8h2v4h2V8h2v4h2V8h2v8z\"></path></g></svg> 90 m²  </span></span><span class=\"hhh4j4-1 ldRYl sc-bdVaJa hfjSkg\"><span><svg aria-hidden=\"true\" class=\"jss130\" focusable=\"false\" style=\"font-size:16px\" viewbox=\"0 0 24 24\"><g><path d=\"M7 13c1.66 0 3-1.34 3-3S8.66 7 7 7s-3 1.34-3 3 1.34 3 3 3zm12-6h-8v7H3V5H1v15h2v-3h18v3h2v-9c0-2.21-1.79-4-4-4z\"></path></g></svg> 3 dorms.</span></span></div>"
      ]
     },
     "execution_count": 56,
     "metadata": {},
     "output_type": "execute_result"
    }
   ],
   "source": [
    "first"
   ]
  },
  {
   "cell_type": "code",
   "execution_count": null,
   "metadata": {},
   "outputs": [],
   "source": []
  }
 ],
 "metadata": {
  "kernelspec": {
   "display_name": "Python 3",
   "language": "python",
   "name": "python3"
  },
  "language_info": {
   "codemirror_mode": {
    "name": "ipython",
    "version": 3
   },
   "file_extension": ".py",
   "mimetype": "text/x-python",
   "name": "python",
   "nbconvert_exporter": "python",
   "pygments_lexer": "ipython3",
   "version": "3.7.3"
  }
 },
 "nbformat": 4,
 "nbformat_minor": 2
}
