{
 "cells": [
  {
   "cell_type": "code",
   "execution_count": 5,
   "metadata": {},
   "outputs": [],
   "source": [
    "import requests as requests\n",
    "import re\n",
    "from selenium import webdriver\n",
    "from selenium.webdriver.common.keys import Keys\n",
    "from bs4 import BeautifulSoup"
   ]
  },
  {
   "cell_type": "code",
   "execution_count": 3,
   "metadata": {},
   "outputs": [
    {
     "name": "stdout",
     "output_type": "stream",
     "text": [
      "ApartamentoAvenida Professor Mário WerneckBuritis , Belo Horizonte 100 m²   3 dorms.\n"
     ]
    }
   ],
   "source": [
    "# instancia browser\n",
    "import time \n",
    "\n",
    "browser = webdriver.Chrome(\"chromedriver.exe\")\n",
    "\n",
    "browser.get('https://www.quintoandar.com.br/alugar/imovel/belo-horizonte-mg-brasil/apartamento/3-quartos/de-500-a-2500-aluguel/1-vagas')\n",
    "time.sleep(0.5)\n",
    "\n",
    "# Selenium script to scroll to the bottom, wait 3 seconds for the next batch of data to load, then continue scrolling.\n",
    "#It will continue to do this until the page stops loading new data.\n",
    "\n",
    "#lenOfPage = browser.execute_script(\"window.scrollTo(0, document.body.scrollHeight);var lenOfPage=document.body.scrollHeight;return lenOfPage;\")\n",
    "#match=False\n",
    "#while(match==False):\n",
    "#        lastCount = lenOfPage\n",
    "#        time.sleep(3)\n",
    "#        lenOfPage = browser.execute_script(\"window.scrollTo(0, document.body.scrollHeight);var lenOfPage=document.body.scrollHeight;return lenOfPage;\")\n",
    "#       if lastCount==lenOfPage:\n",
    "#            match=True\n",
    "\n",
    "\n",
    "body = browser.find_element_by_tag_name(\"body\")\n",
    "\n",
    "no_pageDowns = 50\n",
    "\n",
    "while no_pageDowns:\n",
    "    body.send_keys(Keys.PAGE_DOWN)\n",
    "    time.sleep(1)\n",
    "    no_pageDowns-=1\n",
    "\n",
    "    \n",
    "source = browser.page_source\n",
    "soup = BeautifulSoup(source, 'html.parser')\n",
    "\n",
    "#postElem = browser.find_elements_by_tag_name('div')\n",
    "\n",
    "#postElem = browser.find_elements_by_class_name('hhh4j4-0 hgxpIA')\n",
    "\n",
    "#postElem = browser.find_elements_by_class_name('hhh4j4-0')\n",
    "\n",
    "#for post in postElem:\n",
    "#    print(post.text)\n",
    "teste = soup.find_all('div', class_='hhh4j4-0 hgxpIA')\n",
    "print(teste[0].text)\n",
    "\n",
    "browser.quit()"
   ]
  },
  {
   "cell_type": "code",
   "execution_count": 32,
   "metadata": {},
   "outputs": [
    {
     "data": {
      "text/plain": [
       "<div class=\"hhh4j4-0 hgxpIA\"><span class=\"hhh4j4-2 hyCyhO sc-bdVaJa kuvAWT\"><span>Apartamento</span></span><div class=\"hhh4j4-3 cJuvGy\"><p class=\"sc-bdVaJa gBJGys\">Rua Engenheiro Zoroastro Torres</p><p class=\"sc-bdVaJa jiARkd\">Santo Antônio, Belo Horizonte</p></div><span class=\"hhh4j4-1 ldRYl sc-bdVaJa hfjSkg\"><span><svg aria-hidden=\"true\" class=\"jss130\" focusable=\"false\" style=\"font-size: 16px;\" viewbox=\"0 0 24 24\"><g><path d=\"M21 6H3c-1.1 0-2 .9-2 2v8c0 1.1.9 2 2 2h18c1.1 0 2-.9 2-2V8c0-1.1-.9-2-2-2zm0 10H3V8h2v4h2V8h2v4h2V8h2v4h2V8h2v4h2V8h2v8z\"></path></g></svg> 120 m²  </span></span><span class=\"hhh4j4-1 ldRYl sc-bdVaJa hfjSkg\"><span><svg aria-hidden=\"true\" class=\"jss130\" focusable=\"false\" style=\"font-size: 16px;\" viewbox=\"0 0 24 24\"><g><path d=\"M7 13c1.66 0 3-1.34 3-3S8.66 7 7 7s-3 1.34-3 3 1.34 3 3 3zm12-6h-8v7H3V5H1v15h2v-3h18v3h2v-9c0-2.21-1.79-4-4-4z\"></path></g></svg> 3 dorms.</span></span></div>"
      ]
     },
     "execution_count": 32,
     "metadata": {},
     "output_type": "execute_result"
    }
   ],
   "source": [
    "appContainer = soup.find_all('div', class_='hhh4j4-0 hgxpIA')[0]\n",
    "\n",
    "appContainer"
   ]
  },
  {
   "cell_type": "code",
   "execution_count": 37,
   "metadata": {},
   "outputs": [
    {
     "data": {
      "text/plain": [
       "('Rua Engenheiro Zoroastro Torres', 'Santo Antônio, Belo Horizonte')"
      ]
     },
     "execution_count": 37,
     "metadata": {},
     "output_type": "execute_result"
    }
   ],
   "source": [
    "# Manipulando apContainers \n",
    "\n",
    "rua = appContainer.find_all('p')[0].text\n",
    "bairro = appContainer.find_all('p')[1].text\n",
    "\n",
    "rua,bairro"
   ]
  },
  {
   "cell_type": "code",
   "execution_count": 40,
   "metadata": {},
   "outputs": [
    {
     "data": {
      "text/plain": [
       "<div class=\"m82tat-1 tOXvs\"><p class=\"m82tat-3 kVYbKp sc-bdVaJa iJaolf\"><span>Aluguel R$ 1.400 </span></p><p class=\"sc-bdVaJa gzeFNP\"><strong>Total R$ 1.895 </strong></p></div>"
      ]
     },
     "execution_count": 40,
     "metadata": {},
     "output_type": "execute_result"
    }
   ],
   "source": [
    "# Aluguel e Valor total (aluguel + txs + condominio)\n",
    "\n",
    "\n",
    "precoContainer = soup.find_all('div', class_='m82tat-1 tOXvs')[0]\n",
    "\n",
    "precoContainer"
   ]
  },
  {
   "cell_type": "code",
   "execution_count": 41,
   "metadata": {},
   "outputs": [
    {
     "data": {
      "text/plain": [
       "('Aluguel R$\\xa01.400 ', 'Total R$\\xa01.895 ')"
      ]
     },
     "execution_count": 41,
     "metadata": {},
     "output_type": "execute_result"
    }
   ],
   "source": [
    "# Aluguel e Total\n",
    "aluguel, total = precoContainer.find_all('p')[0].text, precoContainer.find_all('p')[1].text\n",
    "\n",
    "aluguel, total"
   ]
  },
  {
   "cell_type": "code",
   "execution_count": 44,
   "metadata": {},
   "outputs": [
    {
     "data": {
      "text/plain": [
       "(1, 1)"
      ]
     },
     "execution_count": 44,
     "metadata": {},
     "output_type": "execute_result"
    }
   ],
   "source": [
    "aluguel, total = aluguel.replace(',',''), total.replace(',','')\n",
    "aluguel = int(re.search(r'\\d+', aluguel).group())\n",
    "total = int(re.search(r'\\d+', total).group())\n",
    "\n",
    "aluguel, total"
   ]
  },
  {
   "cell_type": "code",
   "execution_count": 46,
   "metadata": {},
   "outputs": [
    {
     "data": {
      "text/plain": [
       "71"
      ]
     },
     "execution_count": 46,
     "metadata": {},
     "output_type": "execute_result"
    }
   ],
   "source": [
    "# Area do apto\n",
    "\n",
    "areaContainers = soup.find_all('span', class_= 'hhh4j4-1 ldRYl sc-bdVaJa hfjSkg')[0].text\n",
    "\n",
    "areaContainers = int(re.search(r'\\d+', areaContainers).group())\n",
    "\n",
    "areaContainers"
   ]
  },
  {
   "cell_type": "code",
   "execution_count": 4,
   "metadata": {},
   "outputs": [
    {
     "name": "stdout",
     "output_type": "stream",
     "text": [
      "Rua : Avenida Professor Mário Werneck\n",
      "Bairro : Buritis , Belo Horizonte\n",
      "Area : 100\n",
      "Quartos : 3\n",
      "Aluguel : 1\n",
      "Total : 2\n"
     ]
    }
   ],
   "source": [
    "#############################################\n",
    "# HOUSE CONTAINERS \n",
    "#############################################\n",
    "\n",
    "houseContainers = soup.find_all('div', class_='hhh4j4-0 hgxpIA')\n",
    "\n",
    "first = houseContainers[0]\n",
    "\n",
    "# Endereço\n",
    "rua = first.find_all('p')[0].text\n",
    "bairro = first.find_all('p')[1].text\n",
    "# Area\n",
    "area = first.find_all('span', class_= 'hhh4j4-1 ldRYl sc-bdVaJa hfjSkg')[0].text\n",
    "area = int(re.search(r'\\d+', area).group())\n",
    "# Numero de Quartos\n",
    "quartos = first.find_all('span', class_='hhh4j4-1 ldRYl sc-bdVaJa hfjSkg')[1].text\n",
    "quartos = int(re.search(r'\\d+', quartos).group())\n",
    "\n",
    "# Aluguel e total\n",
    "precoContainer = soup.find_all('div', class_='m82tat-1 tOXvs')[0]\n",
    "aluguel, total = precoContainer.find_all('p')[0].text, precoContainer.find_all('p')[1].text\n",
    "aluguel, total = aluguel.replace(',',''), total.replace(',','')\n",
    "aluguel = int(re.search(r'\\d+', aluguel).group())\n",
    "total = int(re.search(r'\\d+', total).group())\n",
    "\n",
    "\n",
    "saida = {\n",
    "    'Rua' : rua,\n",
    "    'Bairro' : bairro,\n",
    "    'Area' : area,\n",
    "    'Quartos' : quartos,\n",
    "    'Aluguel': aluguel,\n",
    "    'Total' : total\n",
    "}\n",
    "\n",
    "for i in saida:\n",
    "    print('{} : {}'.format(i, saida[i]))"
   ]
  },
  {
   "cell_type": "code",
   "execution_count": 23,
   "metadata": {},
   "outputs": [],
   "source": [
    "# Selenium script to scroll to the bottom, wait 3 seconds for the next batch of data to load, then continue scrolling.\n",
    "#It will continue to do this until the page stops loading new data.\n",
    "\n",
    "lenOfPage = browser.execute_script(\"window.scrollTo(0, document.body.scrollHeight);var lenOfPage=document.body.scrollHeight;return lenOfPage;\")\n",
    "match=False\n",
    "while(match==False):\n",
    "        lastCount = lenOfPage\n",
    "        time.sleep(3)\n",
    "        lenOfPage = browser.execute_script(\"window.scrollTo(0, document.body.scrollHeight);var lenOfPage=document.body.scrollHeight;return lenOfPage;\")\n",
    "        if lastCount==lenOfPage:\n",
    "            match=True"
   ]
  }
 ],
 "metadata": {
  "kernelspec": {
   "display_name": "Python 3",
   "language": "python",
   "name": "python3"
  },
  "language_info": {
   "codemirror_mode": {
    "name": "ipython",
    "version": 3
   },
   "file_extension": ".py",
   "mimetype": "text/x-python",
   "name": "python",
   "nbconvert_exporter": "python",
   "pygments_lexer": "ipython3",
   "version": "3.7.3"
  }
 },
 "nbformat": 4,
 "nbformat_minor": 2
}
